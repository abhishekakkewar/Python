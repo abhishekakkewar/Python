{
 "cells": [
  {
   "cell_type": "code",
   "execution_count": 1,
   "id": "14a0dbe9",
   "metadata": {},
   "outputs": [
    {
     "name": "stdout",
     "output_type": "stream",
     "text": [
      "\n",
      " Trust Fund Buddy\n",
      "Totals your monthly spending so that your trust fund doesn't run out\n",
      "(and you're forced to get a real job).\n",
      "Please enter the requested, monthly costs. Since you're rich, ignore \n",
      " pennies and use only dollar amounts.\n",
      "\n",
      "Lamborghini Tune-Ups: 53\n",
      "Manhattan Apartment: 56\n",
      "Private Jet Rental: 66\n",
      "Gifts: 56\n",
      "Dining Out: 58\n",
      "Staff (butlers, chef, driver, assistant): 58\n",
      "Personal Guru and Coach: 5\n",
      "Computer Games: 85\n",
      "\n",
      "Grand Total: 535666565858585\n",
      "\n",
      "\n",
      "Press the enter key to exit.\n"
     ]
    },
    {
     "data": {
      "text/plain": [
       "''"
      ]
     },
     "execution_count": 1,
     "metadata": {},
     "output_type": "execute_result"
    }
   ],
   "source": [
    "# Trust Fund Buddy - Bad\n",
    "# Demonstrates a logical error\n",
    "print(\n",
    "\"\"\"\n",
    " Trust Fund Buddy\n",
    "Totals your monthly spending so that your trust fund doesn't run out\n",
    "(and you're forced to get a real job).\n",
    "Please enter the requested, monthly costs. Since you're rich, ignore \n",
    " pennies and use only dollar amounts.\n",
    "\"\"\"\n",
    ")\n",
    "car = input(\"Lamborghini Tune-Ups: \")\n",
    "rent = input(\"Manhattan Apartment: \")\n",
    "jet = input(\"Private Jet Rental: \")\n",
    "\n",
    "gifts = input(\"Gifts: \")\n",
    "food = input(\"Dining Out: \")\n",
    "staff = input(\"Staff (butlers, chef, driver, assistant): \")\n",
    "guru = input(\"Personal Guru and Coach: \")\n",
    "games = input(\"Computer Games: \")\n",
    "total = car + rent + jet + gifts + food + staff + guru + games\n",
    "print(\"\\nGrand Total:\", total)\n"
   ]
  },
  {
   "cell_type": "code",
   "execution_count": 2,
   "id": "bae23ea3",
   "metadata": {},
   "outputs": [
    {
     "name": "stdout",
     "output_type": "stream",
     "text": [
      "\n",
      " Trust Fund Buddy\n",
      "Totals your monthly spending so that your trust fund doesn't run out\n",
      "(and you're forced to get a real job).\n",
      "Please enter the requested, monthly costs. Since you're rich, ignore \n",
      " pennies and use only dollar amounts.\n",
      "\n",
      "Lamborghini Tune-Ups: 10\n",
      "Manhattan Apartment: 10\n",
      "Private Jet Rental: 10\n",
      "Gifts: 10\n",
      "Dining Out: 10\n",
      "Staff (butlers, chef, driver, assistant): 10\n",
      "Personal Guru and Coach: 01\n",
      "Computer Games: 10\n",
      "\n",
      "Grand Total: 71\n"
     ]
    }
   ],
   "source": [
    "# Trust Fund Buddy - Good program\n",
    "# Demonstrates a logical error\n",
    "print(\n",
    "\"\"\"\n",
    " Trust Fund Buddy\n",
    "Totals your monthly spending so that your trust fund doesn't run out\n",
    "(and you're forced to get a real job).\n",
    "Please enter the requested, monthly costs. Since you're rich, ignore \n",
    " pennies and use only dollar amounts.\n",
    "\"\"\"\n",
    ")\n",
    "car = int(input(\"Lamborghini Tune-Ups: \"))\n",
    "rent = int(input(\"Manhattan Apartment: \"))\n",
    "jet = int(input(\"Private Jet Rental: \"))\n",
    "\n",
    "gifts = int(input(\"Gifts: \"))\n",
    "food = int(input(\"Dining Out: \"))\n",
    "staff = int(input(\"Staff (butlers, chef, driver, assistant): \"))\n",
    "guru = int(input(\"Personal Guru and Coach: \"))\n",
    "games = int(input(\"Computer Games: \"))\n",
    "total = car + rent + jet + gifts + food + staff + guru + games\n",
    "print(\"\\nGrand Total:\", total)"
   ]
  },
  {
   "cell_type": "markdown",
   "id": "667b138a",
   "metadata": {},
   "source": [
    "float(x) Returns a floating-point value by converting x     \n",
    "int(x) Returns an integer value by converting x     \n",
    "str(x) Returns a string value by converting x"
   ]
  },
  {
   "cell_type": "code",
   "execution_count": 10,
   "id": "976ec172",
   "metadata": {},
   "outputs": [],
   "source": [
    "food *= 52 \n",
    "# *= is an augmented assignment operator. It also multiplies the value of food by 52 and thenassigns the result back to food,"
   ]
  },
  {
   "cell_type": "code",
   "execution_count": 8,
   "id": "4cfe8e4a",
   "metadata": {},
   "outputs": [
    {
     "data": {
      "text/plain": [
       "27040"
      ]
     },
     "execution_count": 8,
     "metadata": {},
     "output_type": "execute_result"
    }
   ],
   "source": [
    "food"
   ]
  },
  {
   "cell_type": "code",
   "execution_count": null,
   "id": "d615a183",
   "metadata": {},
   "outputs": [],
   "source": []
  }
 ],
 "metadata": {
  "kernelspec": {
   "display_name": "Python 3 (ipykernel)",
   "language": "python",
   "name": "python3"
  },
  "language_info": {
   "codemirror_mode": {
    "name": "ipython",
    "version": 3
   },
   "file_extension": ".py",
   "mimetype": "text/x-python",
   "name": "python",
   "nbconvert_exporter": "python",
   "pygments_lexer": "ipython3",
   "version": "3.9.12"
  }
 },
 "nbformat": 4,
 "nbformat_minor": 5
}
