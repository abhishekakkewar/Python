{
 "cells": [
  {
   "cell_type": "code",
   "execution_count": 5,
   "id": "abd23550",
   "metadata": {},
   "outputs": [],
   "source": [
    "#Decorator"
   ]
  },
  {
   "cell_type": "code",
   "execution_count": null,
   "id": "fd5bcf58",
   "metadata": {},
   "outputs": [],
   "source": []
  },
  {
   "cell_type": "code",
   "execution_count": 13,
   "id": "01df3101",
   "metadata": {},
   "outputs": [],
   "source": [
    "def checkforpositive(fn):\n",
    "    def impl(no):\n",
    "        if no < 1:\n",
    "            raise \"it has to be positive\"\n",
    "        return fn(no)\n",
    "    return impl"
   ]
  },
  {
   "cell_type": "code",
   "execution_count": 20,
   "id": "d72eaee8",
   "metadata": {},
   "outputs": [],
   "source": [
    "@checkforpositive  #decorator\n",
    "def squareAndCube(no):\n",
    "    return (no**2, no**3) # returnin tuple"
   ]
  },
  {
   "cell_type": "code",
   "execution_count": 21,
   "id": "25dbc514",
   "metadata": {},
   "outputs": [],
   "source": [
    "def client(no):\n",
    "    r1,r2=squareAndCube(no) # tuple unpacking\n",
    "    print(r1,r2)"
   ]
  },
  {
   "cell_type": "code",
   "execution_count": 29,
   "id": "42e14573",
   "metadata": {},
   "outputs": [
    {
     "name": "stdout",
     "output_type": "stream",
     "text": [
      "no.is -ve\n"
     ]
    }
   ],
   "source": [
    "try:\n",
    "    client(-5)\n",
    "except:\n",
    "    print(\"no.is -ve\")\n",
    "    "
   ]
  },
  {
   "cell_type": "code",
   "execution_count": 30,
   "id": "9bcd2ec4",
   "metadata": {},
   "outputs": [],
   "source": [
    "tup1=tuple(range(1,11))"
   ]
  },
  {
   "cell_type": "code",
   "execution_count": 31,
   "id": "1f6f19bf",
   "metadata": {},
   "outputs": [
    {
     "data": {
      "text/plain": [
       "(1, 2, 3, 4, 5, 6, 7, 8, 9, 10)"
      ]
     },
     "execution_count": 31,
     "metadata": {},
     "output_type": "execute_result"
    }
   ],
   "source": [
    "tup1"
   ]
  },
  {
   "cell_type": "code",
   "execution_count": 33,
   "id": "a78a114b",
   "metadata": {},
   "outputs": [],
   "source": [
    "lst1=[{n:n*n} for n in tup1]"
   ]
  },
  {
   "cell_type": "code",
   "execution_count": 34,
   "id": "789f3690",
   "metadata": {},
   "outputs": [
    {
     "data": {
      "text/plain": [
       "[{1: 1},\n",
       " {2: 4},\n",
       " {3: 9},\n",
       " {4: 16},\n",
       " {5: 25},\n",
       " {6: 36},\n",
       " {7: 49},\n",
       " {8: 64},\n",
       " {9: 81},\n",
       " {10: 100}]"
      ]
     },
     "execution_count": 34,
     "metadata": {},
     "output_type": "execute_result"
    }
   ],
   "source": [
    "lst1"
   ]
  },
  {
   "cell_type": "code",
   "execution_count": 35,
   "id": "2066abad",
   "metadata": {},
   "outputs": [],
   "source": [
    "tup2=([n,n*n] for n in tup1)"
   ]
  },
  {
   "cell_type": "code",
   "execution_count": 36,
   "id": "a12a7e3b",
   "metadata": {},
   "outputs": [
    {
     "data": {
      "text/plain": [
       "<generator object <genexpr> at 0x000001411C673DD0>"
      ]
     },
     "execution_count": 36,
     "metadata": {},
     "output_type": "execute_result"
    }
   ],
   "source": [
    "tup2"
   ]
  },
  {
   "cell_type": "code",
   "execution_count": 37,
   "id": "499129ba",
   "metadata": {},
   "outputs": [
    {
     "name": "stdout",
     "output_type": "stream",
     "text": [
      "[1, 1] [2, 4] [3, 9] [4, 16] [5, 25] [6, 36] [7, 49] [8, 64] [9, 81] [10, 100] "
     ]
    }
   ],
   "source": [
    "for l in tup2:\n",
    "    print(l,end=\" \")"
   ]
  },
  {
   "cell_type": "code",
   "execution_count": null,
   "id": "deede491",
   "metadata": {},
   "outputs": [],
   "source": []
  }
 ],
 "metadata": {
  "kernelspec": {
   "display_name": "Python 3 (ipykernel)",
   "language": "python",
   "name": "python3"
  },
  "language_info": {
   "codemirror_mode": {
    "name": "ipython",
    "version": 3
   },
   "file_extension": ".py",
   "mimetype": "text/x-python",
   "name": "python",
   "nbconvert_exporter": "python",
   "pygments_lexer": "ipython3",
   "version": "3.9.12"
  }
 },
 "nbformat": 4,
 "nbformat_minor": 5
}
