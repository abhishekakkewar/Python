{
 "cells": [
  {
   "cell_type": "raw",
   "id": "979a1488",
   "metadata": {},
   "source": [
    "The program takes three pieces of personal information from the user: name, age, and weight.From these mundane items, the program is able to produce some amusing but trivial facts about the person, such as how much the person would weigh on the moon."
   ]
  },
  {
   "cell_type": "code",
   "execution_count": 3,
   "id": "96802c97",
   "metadata": {},
   "outputs": [
    {
     "name": "stdout",
     "output_type": "stream",
     "text": [
      "Program 'Game Over' 2.0\n",
      "Same message as before\n",
      "Just a bit bigger\n",
      "Here it is...\n",
      "\n",
      "Underneath my outside face\n",
      "There's a face that none can see.\n",
      "A little less smiley,\n",
      "A little less sure,\n",
      "But a whole lot more like me\n",
      " \n",
      " \n"
     ]
    }
   ],
   "source": [
    "# Game Over - Version 2\n",
    "# Demonstrates the use of quotes in strings\n",
    "print(\"Program 'Game Over' 2.0\")\n",
    "print(\"Same\", \"message\", \"as before\")\n",
    "print(\"Just\",\n",
    " \"a bit\",\n",
    " \"bigger\")\n",
    "print(\"Here\", end=\" \")\n",
    "print(\"it is...\")\n",
    "print(\n",
    " \"\"\"\n",
    "Underneath my outside face\n",
    "There's a face that none can see.\n",
    "A little less smiley,\n",
    "A little less sure,\n",
    "But a whole lot more like me\n",
    " \n",
    " \"\"\"\n",
    " )"
   ]
  },
  {
   "cell_type": "code",
   "execution_count": 5,
   "id": "6905cb90",
   "metadata": {},
   "outputs": [
    {
     "name": "stdout",
     "output_type": "stream",
     "text": [
      "\t\t\tFancy Credits\n",
      "\t\t\t \\ \\ \\ \\ \\ \\ \\\n",
      "\t\t\t\tby\n",
      "\t\t\tAbhi\n",
      "\t\t\t \\ \\ \\ \\ \\ \\ \\\n",
      "\n",
      "Special thanks goes out to:\n",
      "My hair stylist, Henry 'The Great,' who never says \"can't.\"\n",
      "\u0007\n"
     ]
    }
   ],
   "source": [
    "print(\"\\t\\t\\tFancy Credits\")\n",
    "print(\"\\t\\t\\t \\\\ \\\\ \\\\ \\\\ \\\\ \\\\ \\\\\")\n",
    "print(\"\\t\\t\\t\\tby\")\n",
    "print(\"\\t\\t\\tAbhi\")\n",
    "print(\"\\t\\t\\t \\\\ \\\\ \\\\ \\\\ \\\\ \\\\ \\\\\")\n",
    "print(\"\\nSpecial thanks goes out to:\")\n",
    "print(\"My hair stylist, Henry \\'The Great,\\' who never says \\\"can\\'t.\\\"\")\n",
    "# sound the system bell\n",
    "print(\"\\a\")"
   ]
  },
  {
   "cell_type": "markdown",
   "id": "cb346ba4",
   "metadata": {},
   "source": [
    "\\\\ Backslash. Prints one backslash.  \n",
    "\\' Single quote. Prints a single quote. \n",
    "\\\" Double quote. Prints a double quote.  \n",
    "\\a Bell. Sounds the system bell.  \n",
    "\\n Newline. Moves cursor to beginning of next line.  \n",
    "\\t Horizontal tab. Moves cursor forward one tab stop"
   ]
  },
  {
   "cell_type": "markdown",
   "id": "08de708f",
   "metadata": {},
   "source": [
    "# CONCATENATING AND REPEATING STRINGS"
   ]
  },
  {
   "cell_type": "code",
   "execution_count": 1,
   "id": "585fef9e",
   "metadata": {},
   "outputs": [
    {
     "name": "stdout",
     "output_type": "stream",
     "text": [
      "You can concatenate two strings with the '+' operator.\n",
      "\n",
      "This string may not seem terribly impressive. But what you don't know is that\n",
      "it's one really long string, created from the concatenation of twenty-two\n",
      "different strings, broken across six lines. Now are you impressed? Okay,\n",
      "this one long string is now over!\n",
      "\n",
      "If you really like a string, you can repeat it. For example,\n",
      "who doesn't like pie? That's right, nobody. But if you really\n",
      "like it, you should say it like you mean it:\n",
      "PiePiePiePiePiePiePiePiePiePie\n"
     ]
    }
   ],
   "source": [
    "# Silly Strings\n",
    "# Demonstrates string concatenation and repetition\n",
    "\n",
    "print(\"You can concatenate two \" + \"strings with the '+' operator.\")\n",
    "\n",
    "print(\"\\nThis string \" + \"may not \" + \"seem terr\" + \"ibly impressive. \" \\\n",
    " + \"But what \" + \"you don't know\" + \" is that\\n\" + \"it's one real\" \\\n",
    " + \"l\" + \"y\" + \" long string, created from the concatenation \" \\\n",
    " + \"of \" + \"twenty-two\\n\" + \"different strings, broken across \" \\\n",
    " + \"six lines.\" + \" Now are you\" + \" impressed? \" + \"Okay,\\n\" \\\n",
    " + \"this \" + \"one \" + \"long\" + \" string is now over!\")\n",
    "\n",
    "print(\"\\nIf you really like a string, you can repeat it. For example,\")\n",
    "print(\"who doesn't like pie? That's right, nobody. But if you really\")\n",
    "print(\"like it, you should say it like you mean it:\")\n",
    "print(\"Pie\" * 10)\n"
   ]
  },
  {
   "cell_type": "code",
   "execution_count": 4,
   "id": "266be8b1",
   "metadata": {},
   "outputs": [
    {
     "name": "stdout",
     "output_type": "stream",
     "text": [
      "Pyhton Pyhton Pyhton Pyhton Pyhton Pyhton Pyhton Pyhton Pyhton Pyhton \n"
     ]
    }
   ],
   "source": [
    "print(\"Pyhton \" * 10)"
   ]
  },
  {
   "cell_type": "code",
   "execution_count": 5,
   "id": "f8996e0e",
   "metadata": {},
   "outputs": [
    {
     "name": "stdout",
     "output_type": "stream",
     "text": [
      "Hi. What's your name? abhi\n",
      "How old are you? 26\n",
      "Okay, last question. How many pounds do you weigh? 60\n",
      "\n",
      "If poet ee cummings were to email you, he'd address you as abhi\n",
      "But if ee were mad, he'd call you ABHI\n"
     ]
    }
   ],
   "source": [
    "# Useless Trivia\n",
    "#\n",
    "# Gets personal information from the user and then\n",
    "# prints true but useless information about him or her\n",
    "\n",
    "name = input(\"Hi. What's your name? \")\n",
    "age = input(\"How old are you? \")\n",
    "age = int(age)\n",
    "weight = int(input(\"Okay, last question. How many pounds do you weigh? \"))\n",
    "\n",
    "print(\"\\nIf poet ee cummings were to email you, he'd address you as\", name.lower())\n",
    "print(\"But if ee were mad, he'd call you\", name.upper())"
   ]
  },
  {
   "cell_type": "code",
   "execution_count": 6,
   "id": "007e595b",
   "metadata": {},
   "outputs": [
    {
     "name": "stdout",
     "output_type": "stream",
     "text": [
      "\n",
      "If a small child were trying to get your attention\n",
      "your name would become:\n",
      "abhiabhiabhiabhiabhi\n"
     ]
    }
   ],
   "source": [
    "called = name * 5\n",
    "print(\"\\nIf a small child were trying to get your attention\",)\n",
    "print(\"your name would become:\")\n",
    "print(called)"
   ]
  },
  {
   "cell_type": "code",
   "execution_count": 7,
   "id": "47223907",
   "metadata": {},
   "outputs": [
    {
     "name": "stdout",
     "output_type": "stream",
     "text": [
      "\n",
      "You’re over 819936000 seconds old.\n"
     ]
    }
   ],
   "source": [
    "seconds = age * 365 * 24 * 60 * 60\n",
    "print(\"\\nYou’re over\", seconds, \"seconds old.\")"
   ]
  },
  {
   "cell_type": "code",
   "execution_count": 8,
   "id": "814bafa9",
   "metadata": {},
   "outputs": [
    {
     "name": "stdout",
     "output_type": "stream",
     "text": [
      "\n",
      "Did you know that on the moon you would weigh only 10.0 pounds?\n",
      "On the sun, you'd weigh 1626.0 (but, ah... not for long).\n"
     ]
    }
   ],
   "source": [
    "moon_weight = weight / 6\n",
    "print(\"\\nDid you know that on the moon you would weigh only\",\n",
    " moon_weight, \"pounds?\")\n",
    "sun_weight = weight * 27.1\n",
    "print(\"On the sun, you'd weigh\", sun_weight, \"(but, ah... not for long).\")"
   ]
  },
  {
   "cell_type": "code",
   "execution_count": null,
   "id": "10ca5501",
   "metadata": {},
   "outputs": [],
   "source": []
  }
 ],
 "metadata": {
  "kernelspec": {
   "display_name": "Python 3 (ipykernel)",
   "language": "python",
   "name": "python3"
  },
  "language_info": {
   "codemirror_mode": {
    "name": "ipython",
    "version": 3
   },
   "file_extension": ".py",
   "mimetype": "text/x-python",
   "name": "python",
   "nbconvert_exporter": "python",
   "pygments_lexer": "ipython3",
   "version": "3.9.12"
  }
 },
 "nbformat": 4,
 "nbformat_minor": 5
}
