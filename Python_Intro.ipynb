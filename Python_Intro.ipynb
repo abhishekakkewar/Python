{
 "cells": [
  {
   "cell_type": "code",
   "execution_count": 1,
   "id": "60c63cc2",
   "metadata": {},
   "outputs": [],
   "source": [
    "n=10"
   ]
  },
  {
   "cell_type": "code",
   "execution_count": 2,
   "id": "a345a042",
   "metadata": {},
   "outputs": [
    {
     "data": {
      "text/plain": [
       "int"
      ]
     },
     "execution_count": 2,
     "metadata": {},
     "output_type": "execute_result"
    }
   ],
   "source": [
    "type(n)\n"
   ]
  },
  {
   "cell_type": "code",
   "execution_count": 3,
   "id": "2b5b0637",
   "metadata": {},
   "outputs": [],
   "source": [
    "m=\"abhishek\""
   ]
  },
  {
   "cell_type": "code",
   "execution_count": 4,
   "id": "216f399e",
   "metadata": {},
   "outputs": [
    {
     "data": {
      "text/plain": [
       "str"
      ]
     },
     "execution_count": 4,
     "metadata": {},
     "output_type": "execute_result"
    }
   ],
   "source": [
    "type(m)"
   ]
  },
  {
   "cell_type": "markdown",
   "id": "73e20002",
   "metadata": {},
   "source": [
    "Everything is object in python.   \n",
    "python is  case sensative"
   ]
  },
  {
   "cell_type": "markdown",
   "id": "a5b13c8a",
   "metadata": {},
   "source": [
    "few classes are mutable: list,set"
   ]
  },
  {
   "cell_type": "markdown",
   "id": "3afb1d57",
   "metadata": {},
   "source": [
    "few classes are immutable : float, int, str, tuple"
   ]
  },
  {
   "cell_type": "code",
   "execution_count": 8,
   "id": "79fad57c",
   "metadata": {},
   "outputs": [
    {
     "data": {
      "text/plain": [
       "1566362129872"
      ]
     },
     "execution_count": 8,
     "metadata": {},
     "output_type": "execute_result"
    }
   ],
   "source": [
    "n1=100\n",
    "id(n1) #hash value of memory addres of  n1, we can call it memory address"
   ]
  },
  {
   "cell_type": "code",
   "execution_count": 9,
   "id": "52b80c4d",
   "metadata": {},
   "outputs": [],
   "source": [
    "n1=n1+10"
   ]
  },
  {
   "cell_type": "code",
   "execution_count": 10,
   "id": "161cf43e",
   "metadata": {},
   "outputs": [
    {
     "data": {
      "text/plain": [
       "110"
      ]
     },
     "execution_count": 10,
     "metadata": {},
     "output_type": "execute_result"
    }
   ],
   "source": [
    "n1"
   ]
  },
  {
   "cell_type": "code",
   "execution_count": 11,
   "id": "c60618c2",
   "metadata": {},
   "outputs": [
    {
     "data": {
      "text/plain": [
       "1566362130192"
      ]
     },
     "execution_count": 11,
     "metadata": {},
     "output_type": "execute_result"
    }
   ],
   "source": [
    "id(n1)"
   ]
  },
  {
   "cell_type": "code",
   "execution_count": 14,
   "id": "a2d54da7",
   "metadata": {},
   "outputs": [],
   "source": [
    "n2=300\n",
    "n3=300"
   ]
  },
  {
   "cell_type": "code",
   "execution_count": 15,
   "id": "29954eac",
   "metadata": {},
   "outputs": [
    {
     "name": "stdout",
     "output_type": "stream",
     "text": [
      "1566475808688\n",
      "1566475807280\n"
     ]
    }
   ],
   "source": [
    "print(id(n2))\n",
    "print(id(n3))"
   ]
  },
  {
   "cell_type": "code",
   "execution_count": 16,
   "id": "8b6e3033",
   "metadata": {},
   "outputs": [],
   "source": [
    "l1 = [10,20]  #list, collections-- dynamic memory allocation"
   ]
  },
  {
   "cell_type": "code",
   "execution_count": 17,
   "id": "45c568c4",
   "metadata": {},
   "outputs": [
    {
     "data": {
      "text/plain": [
       "list"
      ]
     },
     "execution_count": 17,
     "metadata": {},
     "output_type": "execute_result"
    }
   ],
   "source": [
    "type(l1)"
   ]
  },
  {
   "cell_type": "code",
   "execution_count": 18,
   "id": "84c9bed5",
   "metadata": {},
   "outputs": [
    {
     "data": {
      "text/plain": [
       "1566476855488"
      ]
     },
     "execution_count": 18,
     "metadata": {},
     "output_type": "execute_result"
    }
   ],
   "source": [
    "id(l1)"
   ]
  },
  {
   "cell_type": "code",
   "execution_count": 19,
   "id": "fdb5e691",
   "metadata": {},
   "outputs": [],
   "source": [
    "l1.append(30)"
   ]
  },
  {
   "cell_type": "code",
   "execution_count": 20,
   "id": "c05cc34b",
   "metadata": {},
   "outputs": [
    {
     "data": {
      "text/plain": [
       "[10, 20, 30]"
      ]
     },
     "execution_count": 20,
     "metadata": {},
     "output_type": "execute_result"
    }
   ],
   "source": [
    "l1"
   ]
  },
  {
   "cell_type": "code",
   "execution_count": 21,
   "id": "482b523f",
   "metadata": {},
   "outputs": [
    {
     "data": {
      "text/plain": [
       "1566476855488"
      ]
     },
     "execution_count": 21,
     "metadata": {},
     "output_type": "execute_result"
    }
   ],
   "source": [
    "id(l1) # content of l1 is changed but memory address is still same. list is mutable"
   ]
  },
  {
   "cell_type": "markdown",
   "id": "3d60f666",
   "metadata": {},
   "source": [
    "def givemelist(lst):\n",
    "    lst.append(...)"
   ]
  },
  {
   "cell_type": "markdown",
   "id": "d850d4c1",
   "metadata": {},
   "source": [
    "# Funtion"
   ]
  },
  {
   "cell_type": "code",
   "execution_count": 33,
   "id": "6fe79ea1",
   "metadata": {},
   "outputs": [
    {
     "name": "stdout",
     "output_type": "stream",
     "text": [
      "GM abhi\n"
     ]
    }
   ],
   "source": [
    "def greet(msg,user=\"abhi\"):\n",
    "    print(msg,user)\n",
    "    \n",
    "greet(\"GM\")"
   ]
  },
  {
   "cell_type": "code",
   "execution_count": 35,
   "id": "0add9169",
   "metadata": {},
   "outputs": [
    {
     "name": "stdout",
     "output_type": "stream",
     "text": [
      "Good day abhi\n"
     ]
    }
   ],
   "source": [
    "greet(msg='Good day')"
   ]
  },
  {
   "cell_type": "code",
   "execution_count": 41,
   "id": "0de2b77a",
   "metadata": {},
   "outputs": [],
   "source": [
    "def IsPrime(no):\n",
    "    flag=True\n",
    "    index=2\n",
    "    while index < no/2:\n",
    "        if(no % index == 0):\n",
    "            flag=False\n",
    "            break\n",
    "        index = index + 1\n",
    "    return  flag"
   ]
  },
  {
   "cell_type": "code",
   "execution_count": 42,
   "id": "45599e21",
   "metadata": {},
   "outputs": [
    {
     "data": {
      "text/plain": [
       "True"
      ]
     },
     "execution_count": 42,
     "metadata": {},
     "output_type": "execute_result"
    }
   ],
   "source": [
    "IsPrime(2)"
   ]
  },
  {
   "cell_type": "code",
   "execution_count": 43,
   "id": "1dea1028",
   "metadata": {},
   "outputs": [
    {
     "data": {
      "text/plain": [
       "False"
      ]
     },
     "execution_count": 43,
     "metadata": {},
     "output_type": "execute_result"
    }
   ],
   "source": [
    "IsPrime(8)"
   ]
  },
  {
   "cell_type": "code",
   "execution_count": 48,
   "id": "79c3522f",
   "metadata": {},
   "outputs": [],
   "source": [
    "def fact(no):\n",
    "    res=1\n",
    "    tot=1\n",
    "    while res<=no:\n",
    "        tot = tot * res\n",
    "        res = res + 1\n",
    "    return tot"
   ]
  },
  {
   "cell_type": "code",
   "execution_count": 49,
   "id": "f848a1ee",
   "metadata": {},
   "outputs": [
    {
     "data": {
      "text/plain": [
       "120"
      ]
     },
     "execution_count": 49,
     "metadata": {},
     "output_type": "execute_result"
    }
   ],
   "source": [
    "fact(5)"
   ]
  },
  {
   "cell_type": "code",
   "execution_count": 50,
   "id": "44c62965",
   "metadata": {},
   "outputs": [],
   "source": [
    "def factrecurr(no):\n",
    "    if no == 1:\n",
    "        return 1\n",
    "    else:\n",
    "        return no * factrecurr( no - 1)"
   ]
  },
  {
   "cell_type": "code",
   "execution_count": 51,
   "id": "d22532d9",
   "metadata": {},
   "outputs": [
    {
     "data": {
      "text/plain": [
       "120"
      ]
     },
     "execution_count": 51,
     "metadata": {},
     "output_type": "execute_result"
    }
   ],
   "source": [
    "factrecurr(5)"
   ]
  },
  {
   "cell_type": "code",
   "execution_count": 52,
   "id": "db106a02",
   "metadata": {},
   "outputs": [],
   "source": [
    "def SumAll(*nos):  # *args :indefinate. it creates tuple\n",
    "    tot=0\n",
    "    for n in nos:\n",
    "        tot = tot + n\n",
    "    return  tot"
   ]
  },
  {
   "cell_type": "code",
   "execution_count": 53,
   "id": "70078bd5",
   "metadata": {},
   "outputs": [
    {
     "data": {
      "text/plain": [
       "15"
      ]
     },
     "execution_count": 53,
     "metadata": {},
     "output_type": "execute_result"
    }
   ],
   "source": [
    "SumAll(1,2,3,4,5)"
   ]
  },
  {
   "cell_type": "code",
   "execution_count": 62,
   "id": "fc74e4cb",
   "metadata": {},
   "outputs": [],
   "source": [
    "def PrintAllParams(**args):         # **args : indefinate named parameter, in key:value pair\n",
    "    for k,v in args.items():\n",
    "        print(\"value for\",k, \"args is\", v)"
   ]
  },
  {
   "cell_type": "code",
   "execution_count": 63,
   "id": "ad7ab7e9",
   "metadata": {},
   "outputs": [
    {
     "name": "stdout",
     "output_type": "stream",
     "text": [
      "value for a args is hello\n",
      "value for b args is world\n"
     ]
    }
   ],
   "source": [
    "PrintAllParams(a=\"hello\", b=\"world\")"
   ]
  },
  {
   "cell_type": "code",
   "execution_count": 65,
   "id": "76055bf3",
   "metadata": {},
   "outputs": [
    {
     "name": "stdout",
     "output_type": "stream",
     "text": [
      "value for n1 args is 10\n",
      "value for a args is hello\n",
      "value for b args is world\n",
      "value for n2 args is 20\n"
     ]
    }
   ],
   "source": [
    "PrintAllParams(n1=10,a=\"hello\",b=\"world\", n2=20)"
   ]
  },
  {
   "cell_type": "markdown",
   "id": "4da08a04",
   "metadata": {},
   "source": [
    "# Collection Demo 01"
   ]
  },
  {
   "cell_type": "code",
   "execution_count": 71,
   "id": "8fd27bc3",
   "metadata": {},
   "outputs": [],
   "source": [
    "l2 = [10,20,30]\n",
    "l3=[\"mumbai\",\"nashik\"]"
   ]
  },
  {
   "cell_type": "code",
   "execution_count": 72,
   "id": "b9e48b1b",
   "metadata": {},
   "outputs": [
    {
     "name": "stdout",
     "output_type": "stream",
     "text": [
      "10 30\n"
     ]
    }
   ],
   "source": [
    "print(l2[0], l2[2])"
   ]
  },
  {
   "cell_type": "code",
   "execution_count": 73,
   "id": "43d23a29",
   "metadata": {},
   "outputs": [
    {
     "name": "stdout",
     "output_type": "stream",
     "text": [
      "mumbai\n",
      "nashik\n"
     ]
    }
   ],
   "source": [
    "for c in l3:\n",
    "    print (c)"
   ]
  },
  {
   "cell_type": "code",
   "execution_count": 74,
   "id": "2e9f4017",
   "metadata": {},
   "outputs": [],
   "source": [
    "l3.append(\"pune\")"
   ]
  },
  {
   "cell_type": "code",
   "execution_count": 76,
   "id": "470b6445",
   "metadata": {},
   "outputs": [],
   "source": [
    "def PrintCity(city):\n",
    "    for c in city:\n",
    "        print (c)"
   ]
  },
  {
   "cell_type": "code",
   "execution_count": 77,
   "id": "3df6f1a1",
   "metadata": {},
   "outputs": [
    {
     "name": "stdout",
     "output_type": "stream",
     "text": [
      "mumbai\n",
      "nashik\n",
      "pune\n"
     ]
    }
   ],
   "source": [
    "PrintCity(l3)"
   ]
  },
  {
   "cell_type": "code",
   "execution_count": 78,
   "id": "5f02b799",
   "metadata": {},
   "outputs": [
    {
     "data": {
      "text/plain": [
       "['__add__',\n",
       " '__class__',\n",
       " '__class_getitem__',\n",
       " '__contains__',\n",
       " '__delattr__',\n",
       " '__delitem__',\n",
       " '__dir__',\n",
       " '__doc__',\n",
       " '__eq__',\n",
       " '__format__',\n",
       " '__ge__',\n",
       " '__getattribute__',\n",
       " '__getitem__',\n",
       " '__gt__',\n",
       " '__hash__',\n",
       " '__iadd__',\n",
       " '__imul__',\n",
       " '__init__',\n",
       " '__init_subclass__',\n",
       " '__iter__',\n",
       " '__le__',\n",
       " '__len__',\n",
       " '__lt__',\n",
       " '__mul__',\n",
       " '__ne__',\n",
       " '__new__',\n",
       " '__reduce__',\n",
       " '__reduce_ex__',\n",
       " '__repr__',\n",
       " '__reversed__',\n",
       " '__rmul__',\n",
       " '__setattr__',\n",
       " '__setitem__',\n",
       " '__sizeof__',\n",
       " '__str__',\n",
       " '__subclasshook__',\n",
       " 'append',\n",
       " 'clear',\n",
       " 'copy',\n",
       " 'count',\n",
       " 'extend',\n",
       " 'index',\n",
       " 'insert',\n",
       " 'pop',\n",
       " 'remove',\n",
       " 'reverse',\n",
       " 'sort']"
      ]
     },
     "execution_count": 78,
     "metadata": {},
     "output_type": "execute_result"
    }
   ],
   "source": [
    "dir(list)"
   ]
  },
  {
   "cell_type": "code",
   "execution_count": 79,
   "id": "ba19aeae",
   "metadata": {},
   "outputs": [
    {
     "name": "stdout",
     "output_type": "stream",
     "text": [
      "Help on class list in module builtins:\n",
      "\n",
      "class list(object)\n",
      " |  list(iterable=(), /)\n",
      " |  \n",
      " |  Built-in mutable sequence.\n",
      " |  \n",
      " |  If no argument is given, the constructor creates a new empty list.\n",
      " |  The argument must be an iterable if specified.\n",
      " |  \n",
      " |  Methods defined here:\n",
      " |  \n",
      " |  __add__(self, value, /)\n",
      " |      Return self+value.\n",
      " |  \n",
      " |  __contains__(self, key, /)\n",
      " |      Return key in self.\n",
      " |  \n",
      " |  __delitem__(self, key, /)\n",
      " |      Delete self[key].\n",
      " |  \n",
      " |  __eq__(self, value, /)\n",
      " |      Return self==value.\n",
      " |  \n",
      " |  __ge__(self, value, /)\n",
      " |      Return self>=value.\n",
      " |  \n",
      " |  __getattribute__(self, name, /)\n",
      " |      Return getattr(self, name).\n",
      " |  \n",
      " |  __getitem__(...)\n",
      " |      x.__getitem__(y) <==> x[y]\n",
      " |  \n",
      " |  __gt__(self, value, /)\n",
      " |      Return self>value.\n",
      " |  \n",
      " |  __iadd__(self, value, /)\n",
      " |      Implement self+=value.\n",
      " |  \n",
      " |  __imul__(self, value, /)\n",
      " |      Implement self*=value.\n",
      " |  \n",
      " |  __init__(self, /, *args, **kwargs)\n",
      " |      Initialize self.  See help(type(self)) for accurate signature.\n",
      " |  \n",
      " |  __iter__(self, /)\n",
      " |      Implement iter(self).\n",
      " |  \n",
      " |  __le__(self, value, /)\n",
      " |      Return self<=value.\n",
      " |  \n",
      " |  __len__(self, /)\n",
      " |      Return len(self).\n",
      " |  \n",
      " |  __lt__(self, value, /)\n",
      " |      Return self<value.\n",
      " |  \n",
      " |  __mul__(self, value, /)\n",
      " |      Return self*value.\n",
      " |  \n",
      " |  __ne__(self, value, /)\n",
      " |      Return self!=value.\n",
      " |  \n",
      " |  __repr__(self, /)\n",
      " |      Return repr(self).\n",
      " |  \n",
      " |  __reversed__(self, /)\n",
      " |      Return a reverse iterator over the list.\n",
      " |  \n",
      " |  __rmul__(self, value, /)\n",
      " |      Return value*self.\n",
      " |  \n",
      " |  __setitem__(self, key, value, /)\n",
      " |      Set self[key] to value.\n",
      " |  \n",
      " |  __sizeof__(self, /)\n",
      " |      Return the size of the list in memory, in bytes.\n",
      " |  \n",
      " |  append(self, object, /)\n",
      " |      Append object to the end of the list.\n",
      " |  \n",
      " |  clear(self, /)\n",
      " |      Remove all items from list.\n",
      " |  \n",
      " |  copy(self, /)\n",
      " |      Return a shallow copy of the list.\n",
      " |  \n",
      " |  count(self, value, /)\n",
      " |      Return number of occurrences of value.\n",
      " |  \n",
      " |  extend(self, iterable, /)\n",
      " |      Extend list by appending elements from the iterable.\n",
      " |  \n",
      " |  index(self, value, start=0, stop=9223372036854775807, /)\n",
      " |      Return first index of value.\n",
      " |      \n",
      " |      Raises ValueError if the value is not present.\n",
      " |  \n",
      " |  insert(self, index, object, /)\n",
      " |      Insert object before index.\n",
      " |  \n",
      " |  pop(self, index=-1, /)\n",
      " |      Remove and return item at index (default last).\n",
      " |      \n",
      " |      Raises IndexError if list is empty or index is out of range.\n",
      " |  \n",
      " |  remove(self, value, /)\n",
      " |      Remove first occurrence of value.\n",
      " |      \n",
      " |      Raises ValueError if the value is not present.\n",
      " |  \n",
      " |  reverse(self, /)\n",
      " |      Reverse *IN PLACE*.\n",
      " |  \n",
      " |  sort(self, /, *, key=None, reverse=False)\n",
      " |      Sort the list in ascending order and return None.\n",
      " |      \n",
      " |      The sort is in-place (i.e. the list itself is modified) and stable (i.e. the\n",
      " |      order of two equal elements is maintained).\n",
      " |      \n",
      " |      If a key function is given, apply it once to each list item and sort them,\n",
      " |      ascending or descending, according to their function values.\n",
      " |      \n",
      " |      The reverse flag can be set to sort in descending order.\n",
      " |  \n",
      " |  ----------------------------------------------------------------------\n",
      " |  Class methods defined here:\n",
      " |  \n",
      " |  __class_getitem__(...) from builtins.type\n",
      " |      See PEP 585\n",
      " |  \n",
      " |  ----------------------------------------------------------------------\n",
      " |  Static methods defined here:\n",
      " |  \n",
      " |  __new__(*args, **kwargs) from builtins.type\n",
      " |      Create and return a new object.  See help(type) for accurate signature.\n",
      " |  \n",
      " |  ----------------------------------------------------------------------\n",
      " |  Data and other attributes defined here:\n",
      " |  \n",
      " |  __hash__ = None\n",
      "\n"
     ]
    }
   ],
   "source": [
    "help(list)"
   ]
  },
  {
   "cell_type": "markdown",
   "id": "a512f38c",
   "metadata": {},
   "source": [
    "# List and Tuple"
   ]
  },
  {
   "cell_type": "code",
   "execution_count": 80,
   "id": "787598fe",
   "metadata": {},
   "outputs": [],
   "source": [
    "lst1 = [100,200,300] #list"
   ]
  },
  {
   "cell_type": "code",
   "execution_count": 81,
   "id": "6d698531",
   "metadata": {},
   "outputs": [],
   "source": [
    "tup1 = (10,20,30) #tuple"
   ]
  },
  {
   "cell_type": "code",
   "execution_count": 82,
   "id": "61e0cb1f",
   "metadata": {},
   "outputs": [
    {
     "data": {
      "text/plain": [
       "200"
      ]
     },
     "execution_count": 82,
     "metadata": {},
     "output_type": "execute_result"
    }
   ],
   "source": [
    "lst1[1]"
   ]
  },
  {
   "cell_type": "code",
   "execution_count": 84,
   "id": "c38ac309",
   "metadata": {},
   "outputs": [
    {
     "data": {
      "text/plain": [
       "20"
      ]
     },
     "execution_count": 84,
     "metadata": {},
     "output_type": "execute_result"
    }
   ],
   "source": [
    "tup1[1]"
   ]
  },
  {
   "cell_type": "code",
   "execution_count": 85,
   "id": "53a9e2fd",
   "metadata": {},
   "outputs": [
    {
     "name": "stdout",
     "output_type": "stream",
     "text": [
      "list\n",
      "100 200 300 "
     ]
    }
   ],
   "source": [
    "print('list')\n",
    "for v in lst1:\n",
    "    print(v, end = \" \")"
   ]
  },
  {
   "cell_type": "code",
   "execution_count": 88,
   "id": "fdc89ed6",
   "metadata": {},
   "outputs": [
    {
     "name": "stdout",
     "output_type": "stream",
     "text": [
      "tuple\n",
      "10 20 30 "
     ]
    }
   ],
   "source": [
    "print('tuple')\n",
    "for v in tup1:\n",
    "    print(v,end = \" \")"
   ]
  },
  {
   "cell_type": "code",
   "execution_count": 89,
   "id": "be185ddb",
   "metadata": {},
   "outputs": [
    {
     "data": {
      "text/plain": [
       "['__add__',\n",
       " '__class__',\n",
       " '__class_getitem__',\n",
       " '__contains__',\n",
       " '__delattr__',\n",
       " '__dir__',\n",
       " '__doc__',\n",
       " '__eq__',\n",
       " '__format__',\n",
       " '__ge__',\n",
       " '__getattribute__',\n",
       " '__getitem__',\n",
       " '__getnewargs__',\n",
       " '__gt__',\n",
       " '__hash__',\n",
       " '__init__',\n",
       " '__init_subclass__',\n",
       " '__iter__',\n",
       " '__le__',\n",
       " '__len__',\n",
       " '__lt__',\n",
       " '__mul__',\n",
       " '__ne__',\n",
       " '__new__',\n",
       " '__reduce__',\n",
       " '__reduce_ex__',\n",
       " '__repr__',\n",
       " '__rmul__',\n",
       " '__setattr__',\n",
       " '__sizeof__',\n",
       " '__str__',\n",
       " '__subclasshook__',\n",
       " 'count',\n",
       " 'index']"
      ]
     },
     "execution_count": 89,
     "metadata": {},
     "output_type": "execute_result"
    }
   ],
   "source": [
    "dir(tuple)"
   ]
  },
  {
   "cell_type": "code",
   "execution_count": 90,
   "id": "00b2d86c",
   "metadata": {},
   "outputs": [],
   "source": [
    "n1,n2,n3 = tup1  #tuple unpacking"
   ]
  },
  {
   "cell_type": "code",
   "execution_count": 91,
   "id": "c5f3a51e",
   "metadata": {},
   "outputs": [
    {
     "data": {
      "text/plain": [
       "10"
      ]
     },
     "execution_count": 91,
     "metadata": {},
     "output_type": "execute_result"
    }
   ],
   "source": [
    "n1"
   ]
  },
  {
   "cell_type": "code",
   "execution_count": 92,
   "id": "2434cb40",
   "metadata": {},
   "outputs": [
    {
     "data": {
      "text/plain": [
       "20"
      ]
     },
     "execution_count": 92,
     "metadata": {},
     "output_type": "execute_result"
    }
   ],
   "source": [
    "n2"
   ]
  },
  {
   "cell_type": "code",
   "execution_count": 93,
   "id": "532e90e9",
   "metadata": {},
   "outputs": [
    {
     "data": {
      "text/plain": [
       "30"
      ]
     },
     "execution_count": 93,
     "metadata": {},
     "output_type": "execute_result"
    }
   ],
   "source": [
    "n3"
   ]
  },
  {
   "cell_type": "code",
   "execution_count": 94,
   "id": "881252b1",
   "metadata": {},
   "outputs": [],
   "source": [
    "a=50\n",
    "b=20\n"
   ]
  },
  {
   "cell_type": "code",
   "execution_count": 95,
   "id": "d64bfdd2",
   "metadata": {},
   "outputs": [
    {
     "data": {
      "text/plain": [
       "50"
      ]
     },
     "execution_count": 95,
     "metadata": {},
     "output_type": "execute_result"
    }
   ],
   "source": [
    "a\n"
   ]
  },
  {
   "cell_type": "code",
   "execution_count": 96,
   "id": "58a245a2",
   "metadata": {},
   "outputs": [],
   "source": [
    "a,b=b,a #swaping"
   ]
  },
  {
   "cell_type": "code",
   "execution_count": 97,
   "id": "addb2ef6",
   "metadata": {},
   "outputs": [
    {
     "data": {
      "text/plain": [
       "20"
      ]
     },
     "execution_count": 97,
     "metadata": {},
     "output_type": "execute_result"
    }
   ],
   "source": [
    "a"
   ]
  },
  {
   "cell_type": "code",
   "execution_count": 100,
   "id": "931d098e",
   "metadata": {},
   "outputs": [],
   "source": [
    "lst4=list(tup1) #converting list to tuple"
   ]
  },
  {
   "cell_type": "code",
   "execution_count": 101,
   "id": "f120c994",
   "metadata": {},
   "outputs": [
    {
     "data": {
      "text/plain": [
       "[10, 20, 30]"
      ]
     },
     "execution_count": 101,
     "metadata": {},
     "output_type": "execute_result"
    }
   ],
   "source": [
    "lst4"
   ]
  },
  {
   "cell_type": "code",
   "execution_count": 102,
   "id": "90ff2844",
   "metadata": {},
   "outputs": [],
   "source": [
    "lst1.sort()"
   ]
  },
  {
   "cell_type": "code",
   "execution_count": 103,
   "id": "d3076839",
   "metadata": {},
   "outputs": [
    {
     "data": {
      "text/plain": [
       "[100, 200, 300]"
      ]
     },
     "execution_count": 103,
     "metadata": {},
     "output_type": "execute_result"
    }
   ],
   "source": [
    "lst1"
   ]
  },
  {
   "cell_type": "code",
   "execution_count": 104,
   "id": "0e0191c3",
   "metadata": {},
   "outputs": [],
   "source": [
    "tup5= sorted(tup1)"
   ]
  },
  {
   "cell_type": "code",
   "execution_count": 105,
   "id": "a17f1d38",
   "metadata": {},
   "outputs": [
    {
     "data": {
      "text/plain": [
       "[10, 20, 30]"
      ]
     },
     "execution_count": 105,
     "metadata": {},
     "output_type": "execute_result"
    }
   ],
   "source": [
    "tup5"
   ]
  },
  {
   "cell_type": "markdown",
   "id": "dacdcd9d",
   "metadata": {},
   "source": [
    "# set and Dictionary"
   ]
  },
  {
   "cell_type": "code",
   "execution_count": 106,
   "id": "ce04ce37",
   "metadata": {},
   "outputs": [],
   "source": [
    "s1={\"mumbai\",\"pune\",\"nashik\"}"
   ]
  },
  {
   "cell_type": "code",
   "execution_count": 107,
   "id": "38d94b3c",
   "metadata": {},
   "outputs": [],
   "source": [
    "s2={\"pune\",\"Cpur\", \"Npur\"}"
   ]
  },
  {
   "cell_type": "code",
   "execution_count": 108,
   "id": "ecfe3cbb",
   "metadata": {},
   "outputs": [
    {
     "data": {
      "text/plain": [
       "['__and__',\n",
       " '__class__',\n",
       " '__class_getitem__',\n",
       " '__contains__',\n",
       " '__delattr__',\n",
       " '__dir__',\n",
       " '__doc__',\n",
       " '__eq__',\n",
       " '__format__',\n",
       " '__ge__',\n",
       " '__getattribute__',\n",
       " '__gt__',\n",
       " '__hash__',\n",
       " '__iand__',\n",
       " '__init__',\n",
       " '__init_subclass__',\n",
       " '__ior__',\n",
       " '__isub__',\n",
       " '__iter__',\n",
       " '__ixor__',\n",
       " '__le__',\n",
       " '__len__',\n",
       " '__lt__',\n",
       " '__ne__',\n",
       " '__new__',\n",
       " '__or__',\n",
       " '__rand__',\n",
       " '__reduce__',\n",
       " '__reduce_ex__',\n",
       " '__repr__',\n",
       " '__ror__',\n",
       " '__rsub__',\n",
       " '__rxor__',\n",
       " '__setattr__',\n",
       " '__sizeof__',\n",
       " '__str__',\n",
       " '__sub__',\n",
       " '__subclasshook__',\n",
       " '__xor__',\n",
       " 'add',\n",
       " 'clear',\n",
       " 'copy',\n",
       " 'difference',\n",
       " 'difference_update',\n",
       " 'discard',\n",
       " 'intersection',\n",
       " 'intersection_update',\n",
       " 'isdisjoint',\n",
       " 'issubset',\n",
       " 'issuperset',\n",
       " 'pop',\n",
       " 'remove',\n",
       " 'symmetric_difference',\n",
       " 'symmetric_difference_update',\n",
       " 'union',\n",
       " 'update']"
      ]
     },
     "execution_count": 108,
     "metadata": {},
     "output_type": "execute_result"
    }
   ],
   "source": [
    "dir(set)"
   ]
  },
  {
   "cell_type": "code",
   "execution_count": 109,
   "id": "e33fef41",
   "metadata": {},
   "outputs": [
    {
     "data": {
      "text/plain": [
       "{'Cpur', 'Npur', 'mumbai', 'nashik', 'pune'}"
      ]
     },
     "execution_count": 109,
     "metadata": {},
     "output_type": "execute_result"
    }
   ],
   "source": [
    "s1.union(s2)"
   ]
  },
  {
   "cell_type": "markdown",
   "id": "922086e1",
   "metadata": {},
   "source": [
    "namedtuple,   \n",
    "frozenset,   \n",
    "dict"
   ]
  },
  {
   "cell_type": "code",
   "execution_count": null,
   "id": "15c97404",
   "metadata": {},
   "outputs": [],
   "source": []
  }
 ],
 "metadata": {
  "kernelspec": {
   "display_name": "Python 3 (ipykernel)",
   "language": "python",
   "name": "python3"
  },
  "language_info": {
   "codemirror_mode": {
    "name": "ipython",
    "version": 3
   },
   "file_extension": ".py",
   "mimetype": "text/x-python",
   "name": "python",
   "nbconvert_exporter": "python",
   "pygments_lexer": "ipython3",
   "version": "3.9.12"
  }
 },
 "nbformat": 4,
 "nbformat_minor": 5
}
