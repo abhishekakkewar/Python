{
 "cells": [
  {
   "cell_type": "code",
   "execution_count": 3,
   "id": "70ebcc1a",
   "metadata": {},
   "outputs": [
    {
     "name": "stdout",
     "output_type": "stream",
     "text": [
      "If a 2000 pound pregnant hippo gives birth to a 100 pound calf,\n",
      "but then eats 50 pounds of food, how much does she weigh?\n",
      "Press the enter key to find out.\n",
      "2000 - 100 + 50 = 1950\n",
      "\n",
      "If an adventurer returns from a successful quest and buys each of\n",
      "6 companions 3 bottles of ale, how many bottles are purchased?\n",
      "Press the enter key to find out.\n",
      "6 * 3 = 18\n",
      "\n",
      "If a restaurant check comes to 19 dollars with tip, and you and\n",
      "your friends split it evenly 4 ways, how much do you each throw in?\n",
      "Press the enter key to find out.\n",
      "19 / 4 = 4.75\n",
      "\n",
      "If a group of 4 pirates finds a chest full of 107 gold coins, and\n",
      "they divide the booty evenly, how many whole coins does each get?\n",
      "Press the enter key to find out.\n",
      "107 // 4 = 26\n",
      "\n",
      "If that same group of 4 pirates evenly divides the chest full\n",
      "of 107 gold coins, how many coins are left over?\n",
      "Press the enter key to find out.\n",
      "107 % 4 = 3\n"
     ]
    }
   ],
   "source": [
    "# Word Problems\n",
    "# Demonstrates numbers and math\n",
    "print(\"If a 2000 pound pregnant hippo gives birth to a 100 pound calf,\")\n",
    "\n",
    "print(\"but then eats 50 pounds of food, how much does she weigh?\")\n",
    "\n",
    "input(\"Press the enter key to find out.\")\n",
    "\n",
    "print(\"2000 - 100 + 50 =\", 2000 - 100 + 50)\n",
    "\n",
    "print(\"\\nIf an adventurer returns from a successful quest and buys each of\")\n",
    "\n",
    "print(\"6 companions 3 bottles of ale, how many bottles are purchased?\")\n",
    "\n",
    "input(\"Press the enter key to find out.\")\n",
    "\n",
    "print(\"6 * 3 =\", 6 * 3)\n",
    "\n",
    "print(\"\\nIf a restaurant check comes to 19 dollars with tip, and you and\")\n",
    "\n",
    "print(\"your friends split it evenly 4 ways, how much do you each throw in?\")\n",
    "\n",
    "input(\"Press the enter key to find out.\")\n",
    "\n",
    "print(\"19 / 4 =\", 19 / 4)\n",
    "\n",
    "print(\"\\nIf a group of 4 pirates finds a chest full of 107 gold coins, and\")\n",
    "\n",
    "print(\"they divide the booty evenly, how many whole coins does each get?\")\n",
    "\n",
    "input(\"Press the enter key to find out.\")\n",
    "\n",
    "print(\"107 // 4 =\", 107 // 4)\n",
    "\n",
    "print(\"\\nIf that same group of 4 pirates evenly divides the chest full\")\n",
    "\n",
    "print(\"of 107 gold coins, how many coins are left over?\")\n",
    "\n",
    "input(\"Press the enter key to find out.\")\n",
    "\n",
    "print(\"107 % 4 =\", 107 % 4)"
   ]
  },
  {
   "cell_type": "markdown",
   "id": "99ce1ee1",
   "metadata": {},
   "source": [
    "Operator Description    \n",
    "\"+\" Addition   \n",
    "\"-\" Subtraction    \n",
    "\"*\" Multiplication   \n",
    "\"/\" Division (True)    \n",
    "\"//\" Division (Integer)   \n",
    "\"%\" Modulus   "
   ]
  },
  {
   "cell_type": "code",
   "execution_count": null,
   "id": "f60edca5",
   "metadata": {},
   "outputs": [],
   "source": []
  }
 ],
 "metadata": {
  "kernelspec": {
   "display_name": "Python 3 (ipykernel)",
   "language": "python",
   "name": "python3"
  },
  "language_info": {
   "codemirror_mode": {
    "name": "ipython",
    "version": 3
   },
   "file_extension": ".py",
   "mimetype": "text/x-python",
   "name": "python",
   "nbconvert_exporter": "python",
   "pygments_lexer": "ipython3",
   "version": "3.9.12"
  }
 },
 "nbformat": 4,
 "nbformat_minor": 5
}
