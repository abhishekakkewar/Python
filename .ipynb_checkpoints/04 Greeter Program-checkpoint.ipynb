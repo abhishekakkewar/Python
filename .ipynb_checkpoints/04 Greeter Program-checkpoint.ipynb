{
 "cells": [
  {
   "cell_type": "markdown",
   "id": "8bdd60ca",
   "metadata": {},
   "source": [
    "# UNDERSTANDING VARIABLES\n",
    "\n"
   ]
  },
  {
   "cell_type": "code",
   "execution_count": 1,
   "id": "c6faba64",
   "metadata": {},
   "outputs": [
    {
     "name": "stdout",
     "output_type": "stream",
     "text": [
      "Larry\n",
      "Hi, Larry\n"
     ]
    }
   ],
   "source": [
    "# Greeter\n",
    "# Demonstrates the use of a variable\n",
    "name = \"Larry\"\n",
    "print(name)\n",
    "print(\"Hi,\", name)"
   ]
  },
  {
   "cell_type": "markdown",
   "id": "98fc8be2",
   "metadata": {},
   "source": [
    "A variable provides a way to label and access information. Instead of having to know exactlywhere in the computer’s memory some information is stored, you use a variable to get at it."
   ]
  },
  {
   "cell_type": "markdown",
   "id": "c3a4f70a",
   "metadata": {},
   "source": [
    "Choose descriptive names.  \n",
    "Be consistent.   \n",
    "Follow the traditions of the language   \n",
    "Keep the length in check."
   ]
  },
  {
   "cell_type": "markdown",
   "id": "f74fbad6",
   "metadata": {},
   "source": [
    "# Getting user input"
   ]
  },
  {
   "cell_type": "code",
   "execution_count": 3,
   "id": "61548c06",
   "metadata": {},
   "outputs": [
    {
     "name": "stdout",
     "output_type": "stream",
     "text": [
      "Please enter your name Abhi\n",
      "Abhi\n",
      "Hi,  Abhi\n"
     ]
    }
   ],
   "source": [
    "name = input(\"Please enter your name \")\n",
    "print(name)\n",
    "print(\"Hi, \", name)"
   ]
  },
  {
   "cell_type": "code",
   "execution_count": 5,
   "id": "2d623e4e",
   "metadata": {},
   "outputs": [
    {
     "name": "stdout",
     "output_type": "stream",
     "text": [
      "Original quote:\n",
      "I think there is a world market for maybe five computers.\n",
      "\n",
      "In uppercase:\n",
      "I THINK THERE IS A WORLD MARKET FOR MAYBE FIVE COMPUTERS.\n",
      "\n",
      "In lowercase:\n",
      "i think there is a world market for maybe five computers.\n",
      "\n",
      "As a title:\n",
      "I Think There Is A World Market For Maybe Five Computers.\n",
      "\n",
      "With a minor replacement:\n",
      "I think there is a world market for maybe millions of computers.\n",
      "\n",
      "Original quote is still:\n",
      "I think there is a world market for maybe five computers.\n"
     ]
    }
   ],
   "source": [
    "# Quotation Manipulation\n",
    "# Demonstrates string methods\n",
    "# quote from IBM Chairman, Thomas Watson, in 1943\n",
    "quote = \"I think there is a world market for maybe five computers.\"\n",
    "print(\"Original quote:\")\n",
    "print(quote)\n",
    "print(\"\\nIn uppercase:\")\n",
    "print(quote.upper())\n",
    "print(\"\\nIn lowercase:\")\n",
    "print(quote.lower())\n",
    "print(\"\\nAs a title:\")\n",
    "print(quote.title())\n",
    "print(\"\\nWith a minor replacement:\")\n",
    "print(quote.replace(\"five\", \"millions of\"))\n",
    "print(\"\\nOriginal quote is still:\")\n",
    "print(quote)\n",
    "\n"
   ]
  },
  {
   "cell_type": "markdown",
   "id": "6600d53f",
   "metadata": {},
   "source": [
    "upper() Returns the uppercase version of the string.\n",
    "lower() Returns the lowercase version of the string.\n",
    "\n",
    "swapcase() Returns a new string where the case of each letter is switched.\n",
    "Uppercase becomes lowercase and lowercase becomes uppercase.\n",
    "\n",
    "capitalize() Returns a new string where the first letter is capitalized and the rest\n",
    "are lowercase.\n",
    "\n",
    "title() Returns a new string where the first letter of each word is capitalized\n",
    "and all others are lowercase.\n",
    "\n",
    "strip() Returns a string where all the white space (tabs, spaces, and newlines)\n",
    "at the beginning and end is removed.\n",
    "\n",
    "replace(old, new [,max]) Returns a string where occurrences of the string old are replaced with\n",
    "the string new. The optional max limits the number of replacements."
   ]
  },
  {
   "cell_type": "code",
   "execution_count": null,
   "id": "f5caec66",
   "metadata": {},
   "outputs": [],
   "source": []
  }
 ],
 "metadata": {
  "kernelspec": {
   "display_name": "Python 3 (ipykernel)",
   "language": "python",
   "name": "python3"
  },
  "language_info": {
   "codemirror_mode": {
    "name": "ipython",
    "version": 3
   },
   "file_extension": ".py",
   "mimetype": "text/x-python",
   "name": "python",
   "nbconvert_exporter": "python",
   "pygments_lexer": "ipython3",
   "version": "3.9.12"
  }
 },
 "nbformat": 4,
 "nbformat_minor": 5
}
