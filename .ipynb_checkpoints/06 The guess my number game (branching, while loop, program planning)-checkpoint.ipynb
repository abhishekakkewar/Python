{
 "cells": [
  {
   "cell_type": "markdown",
   "id": "139820ea",
   "metadata": {},
   "source": [
    "• Generate random numbers using randint() and randrange()   \n",
    "• Use if statements to execute code based on a condition   \n",
    "• Use an else clause to make a choice based on a condition   \n",
    "• Use elif clauses to make a choice based on several conditions  \n",
    "• Use while loops to repeat parts of your program   \n",
    "• Plan your programs using pseudocode  "
   ]
  },
  {
   "cell_type": "markdown",
   "id": "8122c042",
   "metadata": {},
   "source": [
    "# GENERATING RANDOM NUMBERS"
   ]
  },
  {
   "cell_type": "markdown",
   "id": "ecd22bc0",
   "metadata": {},
   "source": [
    "Introducing the Craps Roller Program"
   ]
  },
  {
   "cell_type": "code",
   "execution_count": 2,
   "id": "91c021aa",
   "metadata": {},
   "outputs": [
    {
     "name": "stdout",
     "output_type": "stream",
     "text": [
      "You rolled a 2 and a 5 for a total of 7\n"
     ]
    }
   ],
   "source": [
    "# Craps Roller\n",
    "# Demonstrates random number generation\n",
    "import random\n",
    "# generate random numbers 1 - 6\n",
    "die1 = random.randint(1, 6)\n",
    "die2 = random.randrange(6) + 1\n",
    "total = die1 + die2\n",
    "print(\"You rolled a\", die1, \"and a\", die2, \"for a total of\", total)"
   ]
  },
  {
   "cell_type": "code",
   "execution_count": 3,
   "id": "1a44f7d1",
   "metadata": {},
   "outputs": [
    {
     "name": "stdout",
     "output_type": "stream",
     "text": [
      "You rolled a 6 and a 2 for a total of 8\n"
     ]
    }
   ],
   "source": [
    "# Craps Roller\n",
    "# Demonstrates random number generation\n",
    "import random\n",
    "# generate random numbers 1 - 6\n",
    "die1 = random.randint(1, 6)\n",
    "die2 = random.randrange(6) + 1\n",
    "total = die1 + die2\n",
    "print(\"You rolled a\", die1, \"and a\", die2, \"for a total of\", total)"
   ]
  },
  {
   "cell_type": "markdown",
   "id": "0d4efd0d",
   "metadata": {},
   "source": [
    "# USING THE IF STATEMENT"
   ]
  },
  {
   "cell_type": "code",
   "execution_count": 4,
   "id": "7cf759b9",
   "metadata": {},
   "outputs": [
    {
     "name": "stdout",
     "output_type": "stream",
     "text": [
      "Welcome to System Security Inc.\n",
      "-- where security is our middle name\n",
      "\n",
      "Enter your password: secret\n",
      "Access Granted\n"
     ]
    }
   ],
   "source": [
    "# Password\n",
    "# Demonstrates the if statement\n",
    "print(\"Welcome to System Security Inc.\")\n",
    "print(\"-- where security is our middle name\\n\")\n",
    "password = input(\"Enter your password: \")\n",
    "if password == \"secret\":\n",
    " print(\"Access Granted\")"
   ]
  },
  {
   "cell_type": "markdown",
   "id": "1b909669",
   "metadata": {},
   "source": [
    "Operator Meaning   \n",
    "\"==\" equal to  \n",
    "\"!=\" not equal to   \n",
    "\">\" greater than   \n",
    "\"< \"less than  \n",
    "\">=\" greater than or equal to   \n",
    "\"<=\" less than or equal to  "
   ]
  },
  {
   "cell_type": "code",
   "execution_count": 6,
   "id": "596dac56",
   "metadata": {},
   "outputs": [
    {
     "name": "stdout",
     "output_type": "stream",
     "text": [
      "Welcome to System Security Inc.\n",
      "-- where security is our middle name\n",
      "\n",
      "Enter your password: 123\n",
      "Access Denied\n"
     ]
    }
   ],
   "source": [
    "# Granted or Denied\n",
    "# Demonstrates an else clause\n",
    "print(\"Welcome to System Security Inc.\")\n",
    "print(\"-- where security is our middle name\\n\")\n",
    "password = input(\"Enter your password: \")\n",
    "if password == \"secret\":\n",
    " print(\"Access Granted\")\n",
    "else:\n",
    " print(\"Access Denied\")\n"
   ]
  },
  {
   "cell_type": "code",
   "execution_count": 9,
   "id": "a1635882",
   "metadata": {},
   "outputs": [
    {
     "name": "stdout",
     "output_type": "stream",
     "text": [
      "I sense your energy. Your true emotions are coming across my screen.\n",
      "You are...\n",
      "\n",
      " -----------\n",
      " |         |\n",
      " | O   O   |\n",
      " |   <     |\n",
      " |         |\n",
      " | .     . |\n",
      " |  `...`  |\n",
      " -----------\n",
      " \n",
      "...today.\n"
     ]
    }
   ],
   "source": [
    "# Mood Computer\n",
    "# Demonstrates the elif clause\n",
    "import random\n",
    "print(\"I sense your energy. Your true emotions are coming across my screen.\")\n",
    "print(\"You are...\")\n",
    "mood = random.randint(1, 3)\n",
    "if mood == 1:\n",
    " # happy\n",
    " print( \\\n",
    " \"\"\"\n",
    " -----------\n",
    " |         |\n",
    " | O   O   |\n",
    " |   <     |\n",
    " |         |\n",
    " | .     . |\n",
    " |  `...`  |\n",
    " -----------\n",
    " \"\"\")\n",
    "elif mood == 2:\n",
    " # neutral\n",
    " print( \\\n",
    " \"\"\"\n",
    " -----------\n",
    " |         |\n",
    " | O   O   |\n",
    " |    <    |\n",
    " |         |\n",
    " | ------  |\n",
    " |         |\n",
    " -----------\n",
    " \"\"\")\n",
    "elif mood == 3:\n",
    " # sad\n",
    " print( \\\n",
    " \"\"\"\n",
    " -----------\n",
    " |         |\n",
    " | O    O  |\n",
    " |    <    |\n",
    " |         |\n",
    " |  .' .   |\n",
    " | '    '  |\n",
    " -----------\n",
    " \"\"\")\n",
    "else:\n",
    " print(\"Illegal mood value! (You must be in a really bad mood).\")\n",
    "\n",
    "print(\"...today.\")\n"
   ]
  },
  {
   "cell_type": "markdown",
   "id": "cbdffdd7",
   "metadata": {},
   "source": [
    "# CREATING WHILE LOOPS"
   ]
  },
  {
   "cell_type": "code",
   "execution_count": 11,
   "id": "50f64278",
   "metadata": {},
   "outputs": [
    {
     "name": "stdout",
     "output_type": "stream",
     "text": [
      "\tWelcome to the 'Three-Year-Old Simulator'\n",
      "\n",
      "This program simulates a conversation with a three-year-old child.\n",
      "Try to stop the madness.\n",
      "\n",
      "Why?\n",
      "I am on leave\n",
      "Why?\n",
      "Because \n",
      "Why?\n",
      "Because. i am the boss\n",
      "Why?\n",
      "Because.\n",
      "Oh. Okay.\n"
     ]
    }
   ],
   "source": [
    "# Three Year-Old Simulator\n",
    "# Demonstrates the while loop\n",
    "print(\"\\tWelcome to the 'Three-Year-Old Simulator'\\n\")\n",
    "\n",
    "print(\"This program simulates a conversation with a three-year-old child.\")\n",
    "\n",
    "print(\"Try to stop the madness.\\n\")\n",
    "\n",
    "\n",
    "response = \"\"\n",
    "while response != \"Because.\":\n",
    " response = input(\"Why?\\n\")\n",
    "print(\"Oh. Okay.\")"
   ]
  },
  {
   "cell_type": "markdown",
   "id": "f140c1da",
   "metadata": {},
   "source": [
    "If the format of the while loop looks familiar, there’s a good reason. It bears a striking resem\u0002blance to its cousin, the if statement. The only difference is that if is replaced by while. Andthe similarities aren’t just skin-deep. In both statement types, if the condition is true, theblock (sometimes call the loop body in a loop) is executed. But in the while statement, thecomputer tests the condition and executes the block over and over, until the condition isfalse. That’s why it’s called a loop."
   ]
  },
  {
   "cell_type": "code",
   "execution_count": 15,
   "id": "7aa80a01",
   "metadata": {},
   "outputs": [
    {
     "ename": "SyntaxError",
     "evalue": "invalid syntax (3533910192.py, line 3)",
     "output_type": "error",
     "traceback": [
      "\u001b[1;36m  Input \u001b[1;32mIn [15]\u001b[1;36m\u001b[0m\n\u001b[1;33m    while counter <= 10\u001b[0m\n\u001b[1;37m                       ^\u001b[0m\n\u001b[1;31mSyntaxError\u001b[0m\u001b[1;31m:\u001b[0m invalid syntax\n"
     ]
    }
   ],
   "source": [
    "#Here’s a simple example of an infinite loop:\n",
    "counter = 0\n",
    "while counter <= 10\n",
    "    counter += 1\n",
    "    print(\"abhi\")\n",
    "    #counter++"
   ]
  },
  {
   "cell_type": "code",
   "execution_count": 17,
   "id": "31fc5369",
   "metadata": {},
   "outputs": [
    {
     "name": "stdout",
     "output_type": "stream",
     "text": [
      "Your lone hero is surrounded by a massive army of trolls.\n",
      "Their decaying green bodies stretch out, melting into the horizon.\n",
      "Your hero unsheathes his sword for the last fight of his life.\n",
      "\n",
      "Your hero swings and defeats an evil troll, but takes 3 damage points.\n",
      "\n",
      "Your hero swings and defeats an evil troll, but takes 3 damage points.\n",
      "\n",
      "Your hero swings and defeats an evil troll, but takes 3 damage points.\n",
      "\n",
      "Your hero swings and defeats an evil troll, but takes 3 damage points.\n",
      "\n",
      "Your hero fought valiantly and defeated 4 trolls.\n",
      "But alas, your hero is no more.\n"
     ]
    }
   ],
   "source": [
    "# Losing Battle\n",
    "# Demonstrates the dreaded infinite loop\n",
    "print(\"Your lone hero is surrounded by a massive army of trolls.\")\n",
    "print(\"Their decaying green bodies stretch out, melting into the horizon.\")\n",
    "print(\"Your hero unsheathes his sword for the last fight of his life.\\n\")\n",
    "health = 10\n",
    "trolls = 0\n",
    "damage = 3\n",
    "while health > 0:\n",
    " trolls += 1\n",
    " health -= damage\n",
    " print(\"Your hero swings and defeats an evil troll, \" \\\n",
    " \"but takes\", damage, \"damage points.\\n\")\n",
    "print(\"Your hero fought valiantly and defeated\", trolls, \"trolls.\")\n",
    "print(\"But alas, your hero is no more.\")"
   ]
  },
  {
   "cell_type": "code",
   "execution_count": 19,
   "id": "164398ab",
   "metadata": {},
   "outputs": [
    {
     "name": "stdout",
     "output_type": "stream",
     "text": [
      "Welcome to the Chateau D' Food\n",
      "It seems we are quite full this evening.\n",
      "\n",
      "How many dollars do you slip the Maitre D'? 10\n",
      "Ah, I am reminded of a table. Right this way.\n"
     ]
    }
   ],
   "source": [
    "# Maitre D'\n",
    "# Demonstrates treating a value as a condition\n",
    "print(\"Welcome to the Chateau D' Food\")\n",
    "print(\"It seems we are quite full this evening.\\n\")\n",
    "money = int(input(\"How many dollars do you slip the Maitre D'? \"))\n",
    "if money:\n",
    " print(\"Ah, I am reminded of a table. Right this way.\")\n",
    "else:\n",
    " print(\"Please, sit. It may be a while.\")"
   ]
  },
  {
   "cell_type": "code",
   "execution_count": 26,
   "id": "0c6d9f20",
   "metadata": {},
   "outputs": [
    {
     "name": "stdout",
     "output_type": "stream",
     "text": [
      "1\n",
      "2\n",
      "3\n",
      "4\n",
      "6\n",
      "7\n",
      "8\n",
      "9\n",
      "10\n",
      "11\n",
      "12\n",
      "13\n",
      "14\n",
      "15\n",
      "16\n",
      "17\n",
      "18\n",
      "19\n",
      "20\n"
     ]
    }
   ],
   "source": [
    "#CREATING INTENTIONAL INFINITE LOOPS\n",
    "# Finicky Counter\n",
    "# Demonstrates the break and continue statements\n",
    "count = 0\n",
    "while True:\n",
    " count += 1\n",
    " # end loop if count greater than 10\n",
    " if count > 20:\n",
    "     break\n",
    " # skip 5\n",
    " if count == 5:\n",
    "     continue\n",
    " print(count)"
   ]
  },
  {
   "cell_type": "code",
   "execution_count": 27,
   "id": "13c7ba1f",
   "metadata": {},
   "outputs": [
    {
     "name": "stdout",
     "output_type": "stream",
     "text": [
      "\tExclusive Computer Network\n",
      "\t\tMembers only!\n",
      "\n",
      "Username: M.Dawson\n",
      "Password: secret\n",
      "Hi, Mike.\n"
     ]
    }
   ],
   "source": [
    "# Exclusive Network\n",
    "# Demonstrates logical operators and compound conditions\n",
    "print(\"\\tExclusive Computer Network\")\n",
    "print(\"\\t\\tMembers only!\\n\")\n",
    "security = 0\n",
    "username = \"\"\n",
    "while not username:\n",
    " username = input(\"Username: \")\n",
    "password = \"\"\n",
    "while not password:\n",
    " password = input(\"Password: \")\n",
    "if username == \"M.Dawson\" and password == \"secret\":\n",
    " print(\"Hi, Mike.\")\n",
    " security = 5\n",
    "elif username == \"S.Meier\" and password == \"civilization\":\n",
    " print(\"Hey, Sid.\")\n",
    " security = 3\n",
    "elif username == \"S.Miyamoto\" and password == \"mariobros\":\n",
    " print(\"What's up, Shigeru?\")\n",
    " security = 3\n",
    "elif username == \"W.Wright\" and password == \"thesims\":\n",
    " print(\"How goes it, Will?\")\n",
    " security = 3\n",
    "elif username == \"guest\" or password == \"guest\":\n",
    " print(\"Welcome, guest.\")\n",
    " security = 1\n",
    "else:\n",
    " print(\"Login failed. You're not so exclusive.\\n\")"
   ]
  },
  {
   "cell_type": "code",
   "execution_count": null,
   "id": "11512155",
   "metadata": {},
   "outputs": [],
   "source": []
  }
 ],
 "metadata": {
  "kernelspec": {
   "display_name": "Python 3 (ipykernel)",
   "language": "python",
   "name": "python3"
  },
  "language_info": {
   "codemirror_mode": {
    "name": "ipython",
    "version": 3
   },
   "file_extension": ".py",
   "mimetype": "text/x-python",
   "name": "python",
   "nbconvert_exporter": "python",
   "pygments_lexer": "ipython3",
   "version": "3.9.12"
  }
 },
 "nbformat": 4,
 "nbformat_minor": 5
}
