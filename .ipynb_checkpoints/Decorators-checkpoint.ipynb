{
 "cells": [
  {
   "cell_type": "code",
   "execution_count": 5,
   "id": "dc615ff3",
   "metadata": {},
   "outputs": [],
   "source": [
    "#Decorator"
   ]
  },
  {
   "cell_type": "code",
   "execution_count": null,
   "id": "928b473e",
   "metadata": {},
   "outputs": [],
   "source": []
  },
  {
   "cell_type": "code",
   "execution_count": 13,
   "id": "c4e9ea7c",
   "metadata": {},
   "outputs": [],
   "source": [
    "def checkforpositive(fn):\n",
    "    def impl(no):\n",
    "        if no < 1:\n",
    "            raise \"it has to be positive\"\n",
    "        return fn(no)\n",
    "    return impl"
   ]
  },
  {
   "cell_type": "code",
   "execution_count": 20,
   "id": "ee7b887e",
   "metadata": {},
   "outputs": [],
   "source": [
    "@checkforpositive  #decorator\n",
    "def squareAndCube(no):\n",
    "    return (no**2, no**3) # returnin tuple"
   ]
  },
  {
   "cell_type": "code",
   "execution_count": 21,
   "id": "b83b6858",
   "metadata": {},
   "outputs": [],
   "source": [
    "def client(no):\n",
    "    r1,r2=squareAndCube(no) # tuple unpacking\n",
    "    print(r1,r2)"
   ]
  },
  {
   "cell_type": "code",
   "execution_count": 29,
   "id": "4d74d358",
   "metadata": {},
   "outputs": [
    {
     "name": "stdout",
     "output_type": "stream",
     "text": [
      "no.is -ve\n"
     ]
    }
   ],
   "source": [
    "try:\n",
    "    client(-5)\n",
    "except:\n",
    "    print(\"no.is -ve\")\n",
    "    "
   ]
  },
  {
   "cell_type": "code",
   "execution_count": 30,
   "id": "afd2cf23",
   "metadata": {},
   "outputs": [],
   "source": [
    "tup1=tuple(range(1,11))"
   ]
  },
  {
   "cell_type": "code",
   "execution_count": 31,
   "id": "91da2c63",
   "metadata": {},
   "outputs": [
    {
     "data": {
      "text/plain": [
       "(1, 2, 3, 4, 5, 6, 7, 8, 9, 10)"
      ]
     },
     "execution_count": 31,
     "metadata": {},
     "output_type": "execute_result"
    }
   ],
   "source": [
    "tup1"
   ]
  },
  {
   "cell_type": "code",
   "execution_count": 33,
   "id": "a321ee24",
   "metadata": {},
   "outputs": [],
   "source": [
    "lst1=[{n:n*n} for n in tup1]"
   ]
  },
  {
   "cell_type": "code",
   "execution_count": null,
   "id": "d978f1c8",
   "metadata": {},
   "outputs": [],
   "source": []
  }
 ],
 "metadata": {
  "kernelspec": {
   "display_name": "Python 3 (ipykernel)",
   "language": "python",
   "name": "python3"
  },
  "language_info": {
   "codemirror_mode": {
    "name": "ipython",
    "version": 3
   },
   "file_extension": ".py",
   "mimetype": "text/x-python",
   "name": "python",
   "nbconvert_exporter": "python",
   "pygments_lexer": "ipython3",
   "version": "3.9.12"
  }
 },
 "nbformat": 4,
 "nbformat_minor": 5
}
