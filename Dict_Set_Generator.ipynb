{
 "cells": [
  {
   "cell_type": "markdown",
   "id": "2a6bb185",
   "metadata": {},
   "source": [
    "Dict  \n",
    "named tuple  \n",
    "frozenset   \n",
    "comprehension   \n",
    "generators  \n",
    "decorator    \n",
    "exc handling   \n",
    "modules(custom)   "
   ]
  },
  {
   "cell_type": "code",
   "execution_count": 1,
   "id": "a36bbdd6",
   "metadata": {},
   "outputs": [],
   "source": [
    "#Dictionory\n",
    "# key, value: fast searching"
   ]
  },
  {
   "cell_type": "code",
   "execution_count": 2,
   "id": "e1b59908",
   "metadata": {},
   "outputs": [],
   "source": [
    "d1={\"mumbai\":120, \"pune\":302, \"nashik\":456}"
   ]
  },
  {
   "cell_type": "code",
   "execution_count": 3,
   "id": "5f2804d3",
   "metadata": {},
   "outputs": [
    {
     "data": {
      "text/plain": [
       "{'mumbai': 120, 'pune': 302, 'nashik': 456}"
      ]
     },
     "execution_count": 3,
     "metadata": {},
     "output_type": "execute_result"
    }
   ],
   "source": [
    "d1"
   ]
  },
  {
   "cell_type": "code",
   "execution_count": 4,
   "id": "d6f56338",
   "metadata": {},
   "outputs": [],
   "source": [
    "d1.update({'delhi':250})"
   ]
  },
  {
   "cell_type": "code",
   "execution_count": 5,
   "id": "63960a67",
   "metadata": {},
   "outputs": [
    {
     "data": {
      "text/plain": [
       "{'mumbai': 120, 'pune': 302, 'nashik': 456, 'delhi': 250}"
      ]
     },
     "execution_count": 5,
     "metadata": {},
     "output_type": "execute_result"
    }
   ],
   "source": [
    "d1"
   ]
  },
  {
   "cell_type": "code",
   "execution_count": 6,
   "id": "a39def97",
   "metadata": {},
   "outputs": [],
   "source": [
    "d1.update({\"pune\":150})"
   ]
  },
  {
   "cell_type": "code",
   "execution_count": 7,
   "id": "e6a3121f",
   "metadata": {},
   "outputs": [
    {
     "data": {
      "text/plain": [
       "{'mumbai': 120, 'pune': 150, 'nashik': 456, 'delhi': 250}"
      ]
     },
     "execution_count": 7,
     "metadata": {},
     "output_type": "execute_result"
    }
   ],
   "source": [
    "d1"
   ]
  },
  {
   "cell_type": "code",
   "execution_count": 10,
   "id": "642d3c9d",
   "metadata": {},
   "outputs": [
    {
     "name": "stdout",
     "output_type": "stream",
     "text": [
      "mumbai pune nashik delhi "
     ]
    }
   ],
   "source": [
    "for k in d1.keys():\n",
    "    print(k,end=\" \")"
   ]
  },
  {
   "cell_type": "code",
   "execution_count": 13,
   "id": "7f5e8022",
   "metadata": {},
   "outputs": [
    {
     "name": "stdout",
     "output_type": "stream",
     "text": [
      "120 150 456 250 "
     ]
    }
   ],
   "source": [
    "for v in d1.values():\n",
    "    print(v,end=\" \")"
   ]
  },
  {
   "cell_type": "code",
   "execution_count": 14,
   "id": "16c93d70",
   "metadata": {},
   "outputs": [],
   "source": [
    "d1[\"nashik\"]= 550"
   ]
  },
  {
   "cell_type": "code",
   "execution_count": 15,
   "id": "45d880c3",
   "metadata": {},
   "outputs": [
    {
     "data": {
      "text/plain": [
       "{'mumbai': 120, 'pune': 150, 'nashik': 550, 'delhi': 250}"
      ]
     },
     "execution_count": 15,
     "metadata": {},
     "output_type": "execute_result"
    }
   ],
   "source": [
    "d1"
   ]
  },
  {
   "cell_type": "code",
   "execution_count": 17,
   "id": "4115d6d7",
   "metadata": {},
   "outputs": [
    {
     "name": "stdout",
     "output_type": "stream",
     "text": [
      "Key do not exit 'pune123'\n"
     ]
    }
   ],
   "source": [
    "try:\n",
    "    print(d1[\"pune123\"])\n",
    "except KeyError as ke:\n",
    "    print(\"Key do not exit\",ke)\n"
   ]
  },
  {
   "cell_type": "code",
   "execution_count": 18,
   "id": "69740111",
   "metadata": {},
   "outputs": [
    {
     "name": "stdout",
     "output_type": "stream",
     "text": [
      "pune 12 not there\n"
     ]
    }
   ],
   "source": [
    "if \"pune12\" in d1:\n",
    "    print(d1[\"pune12\"])\n",
    "else:\n",
    "    print(\"pune 12 not there\")"
   ]
  },
  {
   "cell_type": "code",
   "execution_count": 19,
   "id": "4bd61e82",
   "metadata": {},
   "outputs": [
    {
     "name": "stdout",
     "output_type": "stream",
     "text": [
      "mumbai 120  pune 150  nashik 550  delhi 250  "
     ]
    }
   ],
   "source": [
    "for k,v in d1.items():\n",
    "    print(k,v, end=\"  \")"
   ]
  },
  {
   "cell_type": "code",
   "execution_count": 20,
   "id": "86e7e467",
   "metadata": {},
   "outputs": [],
   "source": [
    "class contact:\n",
    "    def __init__(self,nm,ct,clno):\n",
    "        self.name=nm\n",
    "        self.city=ct\n",
    "        self.cellno=clno\n",
    "        "
   ]
  },
  {
   "cell_type": "code",
   "execution_count": 21,
   "id": "49d0395f",
   "metadata": {},
   "outputs": [],
   "source": [
    "c1 = contact(\"abhi\",\"pune\",123456)\n",
    "c2 = contact(\"neha\",\"pune\",3456)\n",
    "c3 = contact(\"milind\",\"banglore\",23456)\n",
    "c4 = contact(\"sid\",\"banglore\",123)\n",
    "c5 = contact(\"krupa\",\"hyd\",56123)\n"
   ]
  },
  {
   "cell_type": "code",
   "execution_count": 29,
   "id": "99697182",
   "metadata": {},
   "outputs": [],
   "source": [
    "lst=[]"
   ]
  },
  {
   "cell_type": "code",
   "execution_count": 30,
   "id": "f5acbde4",
   "metadata": {},
   "outputs": [],
   "source": [
    "lst.append(c1); lst.append(c2)"
   ]
  },
  {
   "cell_type": "code",
   "execution_count": 31,
   "id": "80948704",
   "metadata": {},
   "outputs": [
    {
     "data": {
      "text/plain": [
       "[<__main__.contact at 0x14d9583f7c0>, <__main__.contact at 0x14d9583f5b0>]"
      ]
     },
     "execution_count": 31,
     "metadata": {},
     "output_type": "execute_result"
    }
   ],
   "source": [
    "lst"
   ]
  },
  {
   "cell_type": "code",
   "execution_count": 32,
   "id": "67aef8b5",
   "metadata": {},
   "outputs": [],
   "source": [
    "lst=[]"
   ]
  },
  {
   "cell_type": "code",
   "execution_count": 33,
   "id": "109ff1dd",
   "metadata": {},
   "outputs": [],
   "source": [
    "lst=[c1,c2,c3,c4,c5]"
   ]
  },
  {
   "cell_type": "code",
   "execution_count": 34,
   "id": "f96a47d6",
   "metadata": {},
   "outputs": [],
   "source": [
    "d1= dict()\n",
    "\n",
    "for c in lst:\n",
    "    if c.city in d1:\n",
    "        clist=d1[c.city]\n",
    "        clist.append(c)\n",
    "        d1.update({c.city:clist})\n",
    "    else:\n",
    "        clist = []\n",
    "        clist.append(c)\n",
    "        d1.update({c.city:clist})\n",
    "#"
   ]
  },
  {
   "cell_type": "code",
   "execution_count": 35,
   "id": "cc9248e4",
   "metadata": {},
   "outputs": [
    {
     "data": {
      "text/plain": [
       "{'pune': [<__main__.contact at 0x14d9583f7c0>,\n",
       "  <__main__.contact at 0x14d9583f5b0>],\n",
       " 'banglore': [<__main__.contact at 0x14d95895820>,\n",
       "  <__main__.contact at 0x14d95895bb0>],\n",
       " 'hyd': [<__main__.contact at 0x14d95834e50>]}"
      ]
     },
     "execution_count": 35,
     "metadata": {},
     "output_type": "execute_result"
    }
   ],
   "source": [
    "d1"
   ]
  },
  {
   "cell_type": "code",
   "execution_count": 37,
   "id": "6cfdae4b",
   "metadata": {},
   "outputs": [
    {
     "name": "stdout",
     "output_type": "stream",
     "text": [
      "\n",
      "===============\n",
      "contacts in  pune\n",
      "abhi neha \n",
      "===============\n",
      "contacts in  banglore\n",
      "milind sid \n",
      "===============\n",
      "contacts in  hyd\n",
      "krupa "
     ]
    }
   ],
   "source": [
    "for k,v in d1.items():\n",
    "    print(\"\\n===============\")\n",
    "    print(\"contacts in \",k)\n",
    "    for c in v:\n",
    "        print(c.name,end=\" \")"
   ]
  },
  {
   "cell_type": "markdown",
   "id": "eecc6d59",
   "metadata": {},
   "source": [
    "# Decorator"
   ]
  },
  {
   "cell_type": "code",
   "execution_count": null,
   "id": "4bb0b2af",
   "metadata": {},
   "outputs": [],
   "source": [
    "# decorator is  a feature in python\n",
    "# interceptor | filter\n",
    "\n"
   ]
  }
 ],
 "metadata": {
  "kernelspec": {
   "display_name": "Python 3 (ipykernel)",
   "language": "python",
   "name": "python3"
  },
  "language_info": {
   "codemirror_mode": {
    "name": "ipython",
    "version": 3
   },
   "file_extension": ".py",
   "mimetype": "text/x-python",
   "name": "python",
   "nbconvert_exporter": "python",
   "pygments_lexer": "ipython3",
   "version": "3.9.12"
  }
 },
 "nbformat": 4,
 "nbformat_minor": 5
}
